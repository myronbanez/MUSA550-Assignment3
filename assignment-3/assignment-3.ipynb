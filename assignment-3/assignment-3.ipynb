{
 "cells": [
  {
   "cell_type": "markdown",
   "metadata": {},
   "source": [
    "# Assignment 3 | Myron Bañez"
   ]
  },
  {
   "cell_type": "markdown",
   "metadata": {},
   "source": [
    "## Part 1: Exploring Evictions and Code Violations in Philadelphia"
   ]
  },
  {
   "cell_type": "markdown",
   "metadata": {},
   "source": [
    "### 1.1.1 Read data using `geopandas`"
   ]
  },
  {
   "cell_type": "code",
   "execution_count": null,
   "metadata": {},
   "outputs": [],
   "source": [
    "import pandas as pd\n",
    "import geopandas as gpd\n",
    "from matplotlib import pyplot as plt\n",
    "import matplotlib.colors as mcolors\n",
    "import numpy as np\n",
    "from rasterstats import zonal_stats\n",
    "from rasterio.mask import mask\n",
    "import hvplot.pandas\n",
    "import holoviews as hv\n",
    "import rasterio as rio\n",
    "\n",
    "hv.extension('bokeh')"
   ]
  },
  {
   "cell_type": "code",
   "execution_count": null,
   "metadata": {},
   "outputs": [],
   "source": [
    "pd.options.display.max_columns = 999"
   ]
  },
  {
   "cell_type": "code",
   "execution_count": null,
   "metadata": {},
   "outputs": [],
   "source": [
    "patracts = gpd.read_file(\"./data/PA-tracts.geojson\")\n",
    "patracts"
   ]
  },
  {
   "cell_type": "markdown",
   "metadata": {},
   "source": [
    "### 1.1.2 Explore and trim the data  \n",
    "### The data is trimmed down in order to contain information from Philadelphia."
   ]
  },
  {
   "cell_type": "code",
   "execution_count": null,
   "metadata": {
    "scrolled": true
   },
   "outputs": [],
   "source": [
    "philly = [\"Philadelphia County, Pennsylvania\"]\n",
    "philly_df =  patracts['pl'].isin(philly)\n",
    "philly_demolitions = patracts.loc[philly_df]\n",
    "philly_demolitions"
   ]
  },
  {
   "cell_type": "markdown",
   "metadata": {},
   "source": [
    "### 1.1.3 Transform from wide to tidy format\n",
    "### The data is then transformed from wide to tidy format and renaming values in the year column to understand easier."
   ]
  },
  {
   "cell_type": "code",
   "execution_count": null,
   "metadata": {},
   "outputs": [],
   "source": [
    "philly_demolitions_df = pd.melt(\n",
    "    philly_demolitions, \n",
    "    id_vars=[\"GEOID\", \"geometry\"],\n",
    "    value_vars = ['e-{:02d}'.format(x) for x in range(3, 17)],\n",
    "    value_name=\"Value\", \n",
    "    var_name=\"Year\"\n",
    ")\n",
    "\n",
    "philly_demolitions_df"
   ]
  },
  {
   "cell_type": "code",
   "execution_count": null,
   "metadata": {},
   "outputs": [],
   "source": [
    "philly_demolitions_df_1 = philly_demolitions_df.replace(['e-03', 'e-04', 'e-05', 'e-06', 'e-07', 'e-08', 'e-09', 'e-10', 'e-11', \n",
    "                               'e-12', 'e-13', 'e-14', 'e-15', 'e-16'], \n",
    "                              [2003,2004,2005,2006,2007,2008,2009,2010,2011,2012,2013,2014,2015,2016])\n",
    "\n",
    "philly_demolitions_df_1"
   ]
  },
  {
   "cell_type": "markdown",
   "metadata": {},
   "source": [
    "### 1.1.4 Plot the total number of evictions per year from 2003 to 2016\n",
    "### Based on the plot, the year with the greatest amount of evictions was in 2014."
   ]
  },
  {
   "cell_type": "code",
   "execution_count": null,
   "metadata": {},
   "outputs": [],
   "source": [
    "philly_demolitions_df_2 = philly_demolitions_df_1.groupby(['Year'])['Value'].sum()\n",
    "philly_demolitions_df_2\n",
    "philly_demolitions_df_2.hvplot(kind='bar', rot=90, width=900, color = '#eeba0b')"
   ]
  },
  {
   "cell_type": "markdown",
   "metadata": {},
   "source": [
    "### 1.1.5 The number of evictions across Philadelphia"
   ]
  },
  {
   "cell_type": "code",
   "execution_count": null,
   "metadata": {},
   "outputs": [],
   "source": [
    "philly_demolitions_df_3c = philly_demolitions_df_1.groupby(['GEOID'])['Value'].sum()\n",
    "philly_demolitions_df_3c = philly_demolitions_df_3c.reset_index()\n",
    "philly_demolitions_df_3c"
   ]
  },
  {
   "cell_type": "code",
   "execution_count": null,
   "metadata": {},
   "outputs": [],
   "source": [
    "philly_demolitions_df_1.hvplot(c='Value', \n",
    "                     groupby = \"Year\",\n",
    "                    frame_width=600, \n",
    "                     frame_height=500, \n",
    "                     geo=True,\n",
    "                     cmap='copper_r', \n",
    "                     hover_cols=['GEOID'])"
   ]
  },
  {
   "cell_type": "markdown",
   "metadata": {},
   "source": [
    "## 1.2 Code Violations in Philadelphia"
   ]
  },
  {
   "cell_type": "markdown",
   "metadata": {},
   "source": [
    "### 1.2.1 Load data from 2012 to 2016"
   ]
  },
  {
   "cell_type": "code",
   "execution_count": null,
   "metadata": {},
   "outputs": [],
   "source": [
    "violations = pd.read_csv(\"./data/li_violations.csv\")\n",
    "violations['geometry'] = gpd.points_from_xy(violations['lng'], violations['lat'])\n",
    "violations = gpd.GeoDataFrame(violations, geometry='geometry', crs=\"EPSG:4326\")\n",
    "violations"
   ]
  },
  {
   "cell_type": "markdown",
   "metadata": {},
   "source": [
    "### 1.2.2 Trim to specific violation types"
   ]
  },
  {
   "cell_type": "code",
   "execution_count": null,
   "metadata": {},
   "outputs": [],
   "source": [
    "violation_types = [\n",
    "    \"INT-PLMBG MAINT FIXTURES-RES\",\n",
    "    \"INT S-CEILING REPAIR/MAINT SAN\",\n",
    "    \"PLUMBING SYSTEMS-GENERAL\",\n",
    "    \"CO DETECTOR NEEDED\",\n",
    "    \"INTERIOR SURFACES\",\n",
    "    \"EXT S-ROOF REPAIR\",\n",
    "    \"ELEC-RECEPTABLE DEFECTIVE-RES\",\n",
    "    \"INT S-FLOOR REPAIR\",\n",
    "    \"DRAINAGE-MAIN DRAIN REPAIR-RES\",\n",
    "    \"DRAINAGE-DOWNSPOUT REPR/REPLC\",\n",
    "    \"LIGHT FIXTURE DEFECTIVE-RES\",\n",
    "    \"LICENSE-RES SFD/2FD\",\n",
    "    \"ELECTRICAL -HAZARD\",\n",
    "    \"VACANT PROPERTIES-GENERAL\",\n",
    "    \"INT-PLMBG FIXTURES-RES\",\n",
    "]\n",
    "\n",
    "philly_violations =  violations['violationdescription'].isin(violation_types)\n",
    "phl_violations = violations.loc[philly_violations]\n",
    "phl_violations = phl_violations.to_crs(epsg=3857)\n",
    "phl_violations"
   ]
  },
  {
   "cell_type": "markdown",
   "metadata": {},
   "source": [
    "### 1.2.3 Make a hex bin map"
   ]
  },
  {
   "cell_type": "code",
   "execution_count": null,
   "metadata": {},
   "outputs": [],
   "source": [
    "fig, ax = plt.subplots(figsize=(10, 10), facecolor=plt.get_cmap('copper_r')(0))\n",
    "x = phl_violations.geometry.x\n",
    "y = phl_violations.geometry.y\n",
    "ax.hexbin(x, y, gridsize=40, mincnt=1, cmap='copper_r')\n",
    "philly_demolitions_df_1.to_crs(epsg=3857).plot(ax=ax, \n",
    "                                 facecolor='none', \n",
    "                                 linewidth=0.5,\n",
    "                                 edgecolor='white')\n",
    "\n",
    "ax.set_axis_off()"
   ]
  },
  {
   "cell_type": "markdown",
   "metadata": {},
   "source": [
    "### 1.2.4 Spatially join data sets"
   ]
  },
  {
   "cell_type": "code",
   "execution_count": null,
   "metadata": {},
   "outputs": [],
   "source": [
    "phl_violations_epsg = phl_violations.to_crs(epsg=3857)\n",
    "philly_demolitions_df_epsg = philly_demolitions_df_1.to_crs(epsg=3857)\n",
    "phl_evictions = gpd.sjoin(phl_violations_epsg, philly_demolitions_df_epsg, predicate='within', how='inner').drop(columns=['index_right'])\n",
    "phl_evictions"
   ]
  },
  {
   "cell_type": "markdown",
   "metadata": {},
   "source": [
    "### 1.2.5 Calculate the number of violations by type per census tract"
   ]
  },
  {
   "cell_type": "code",
   "execution_count": null,
   "metadata": {},
   "outputs": [],
   "source": [
    "phl_evictions_1 = phl_evictions.groupby(['GEOID', 'violationdescription'])['Value'].size().unstack(fill_value=0).stack().reset_index(name='n')\n",
    "phl_evictions_1"
   ]
  },
  {
   "cell_type": "markdown",
   "metadata": {},
   "source": [
    "### 1.2.6 Merge with census tracts geometries"
   ]
  },
  {
   "cell_type": "code",
   "execution_count": null,
   "metadata": {},
   "outputs": [],
   "source": [
    "philly_demolitions_df_3 = gpd.GeoDataFrame(philly_demolitions_df_1, geometry='geometry', crs=\"EPSG:4326\")\n",
    "philly_demolitions_df_3\n",
    "phl_evictions_2 = philly_demolitions_df_3.merge(phl_evictions_1, on='GEOID')\n",
    "phl_evictions_2"
   ]
  },
  {
   "cell_type": "markdown",
   "metadata": {},
   "source": [
    "### 1.2.7 Interactive choropleths for each violation type"
   ]
  },
  {
   "cell_type": "code",
   "execution_count": null,
   "metadata": {
    "scrolled": true
   },
   "outputs": [],
   "source": [
    "phl_evictions_2.hvplot(c='n', \n",
    "                     groupby = 'violationdescription',\n",
    "                    frame_width=600, \n",
    "                     frame_height=500, \n",
    "                     geo=True,\n",
    "                       dynamic=False,\n",
    "                     cmap='copper_r', \n",
    "                     hover_cols=['GEOID'])"
   ]
  },
  {
   "cell_type": "markdown",
   "metadata": {},
   "source": [
    "## 1.3. A side-by-side comparison"
   ]
  },
  {
   "cell_type": "code",
   "execution_count": null,
   "metadata": {
    "scrolled": true
   },
   "outputs": [],
   "source": [
    "year = [2016]\n",
    "philly_demolitions_df_year =  philly_demolitions_df_1['Year'].isin(year)\n",
    "philly_demolitions_2016 = philly_demolitions_df_1.loc[philly_demolitions_df_year]\n",
    "philly_demolitions_2016\n",
    "\n",
    "year2016 = philly_demolitions_2016.hvplot(c='Value', \n",
    "                    frame_width=600, \n",
    "                     frame_height=500, \n",
    "                     geo=True,\n",
    "                     cmap='copper_r', \n",
    "                     hover_cols=['GEOID'])\n",
    "\n",
    "year2016"
   ]
  },
  {
   "cell_type": "code",
   "execution_count": null,
   "metadata": {},
   "outputs": [],
   "source": [
    "viotype = [\"ELECTRICAL -HAZARD\"]\n",
    "phl_evictions_viotype =  phl_evictions_2['violationdescription'].isin(viotype)\n",
    "phl_evictions_electric = phl_evictions_2.loc[phl_evictions_viotype]\n",
    "phl_evictions_electric\n",
    "\n",
    "electrical_hazard = phl_evictions_electric.hvplot(c='Value',\n",
    "                              groupby = \"Year\",\n",
    "                    frame_width=600, \n",
    "                     frame_height=500, \n",
    "                     geo=True,\n",
    "                     cmap='copper_r', \n",
    "                     hover_cols=['GEOID'])"
   ]
  },
  {
   "cell_type": "code",
   "execution_count": null,
   "metadata": {},
   "outputs": [],
   "source": [
    "combined = year2016 + electrical_hazard\n",
    "combined"
   ]
  },
  {
   "cell_type": "markdown",
   "metadata": {},
   "source": [
    "## Part 2: Exploring the NDVI in Philadelphia"
   ]
  },
  {
   "cell_type": "markdown",
   "metadata": {},
   "source": [
    "## 2.1 Comparing the NDVI in the city and the suburbs"
   ]
  },
  {
   "cell_type": "markdown",
   "metadata": {},
   "source": [
    "### 2.1.1 Load Landsat data for Philadelphia"
   ]
  },
  {
   "cell_type": "code",
   "execution_count": null,
   "metadata": {},
   "outputs": [],
   "source": [
    "landsat = rio.open(\"./data/landsat8_philly.tif\")\n",
    "landsat\n",
    "data = landsat.read(1)"
   ]
  },
  {
   "cell_type": "code",
   "execution_count": null,
   "metadata": {},
   "outputs": [],
   "source": [
    "fig, ax = plt.subplots(figsize=(10, 10))\n",
    "img = ax.imshow(\n",
    "    data,\n",
    "    norm=mcolors.LogNorm(),  # Use a log colorbar scale\n",
    "    extent=[  # Set the extent of the images\n",
    "        landsat.bounds.left,\n",
    "        landsat.bounds.right,\n",
    "        landsat.bounds.bottom,\n",
    "        landsat.bounds.top,\n",
    "    ],\n",
    "    cmap=\"copper\",\n",
    ")\n",
    "plt.colorbar(img)"
   ]
  },
  {
   "cell_type": "markdown",
   "metadata": {},
   "source": [
    "### 2.1.2 Separating the city from the suburbs"
   ]
  },
  {
   "cell_type": "markdown",
   "metadata": {},
   "source": [
    "### City polygon"
   ]
  },
  {
   "cell_type": "code",
   "execution_count": null,
   "metadata": {},
   "outputs": [],
   "source": [
    "city_limits = gpd.read_file(\"./data/City_Limits.geojson\")\n",
    "city_limits = city_limits.to_crs(landsat.crs.data['init'])\n",
    "city_limits"
   ]
  },
  {
   "cell_type": "code",
   "execution_count": null,
   "metadata": {},
   "outputs": [],
   "source": [
    "fig, ax = plt.subplots(figsize=(10, 10))\n",
    "landsat_extent = [\n",
    "    landsat.bounds.left,\n",
    "    landsat.bounds.right,\n",
    "    landsat.bounds.bottom,\n",
    "    landsat.bounds.top,\n",
    "]\n",
    "img = ax.imshow(data, \n",
    "                norm=mcolors.LogNorm(), #NEW\n",
    "                extent=landsat_extent,\n",
    "               cmap = \"copper\")  #NEW\n",
    "city_limits.plot(ax=ax, facecolor=\"none\", edgecolor=\"white\")\n",
    "plt.colorbar(img)\n",
    "ax.set_axis_off()"
   ]
  },
  {
   "cell_type": "markdown",
   "metadata": {},
   "source": [
    "### Suburb polygon"
   ]
  },
  {
   "cell_type": "code",
   "execution_count": null,
   "metadata": {},
   "outputs": [],
   "source": [
    "suburbs = city_limits.envelope\n",
    "suburbs = suburbs.difference(city_limits.geometry)\n",
    "suburbs = suburbs.to_crs(landsat.crs.data['init'])\n",
    "suburbs"
   ]
  },
  {
   "cell_type": "code",
   "execution_count": null,
   "metadata": {},
   "outputs": [],
   "source": [
    "fig, ax = plt.subplots(figsize=(10, 10))\n",
    "landsat_extent = [\n",
    "    landsat.bounds.left,\n",
    "    landsat.bounds.right,\n",
    "    landsat.bounds.bottom,\n",
    "    landsat.bounds.top,\n",
    "]\n",
    "img = ax.imshow(data, \n",
    "                norm=mcolors.LogNorm(), #NEW\n",
    "                extent=landsat_extent,\n",
    "               cmap=\"copper\")  #NEW\n",
    "suburbs.plot(ax=ax, facecolor=\"none\", edgecolor=\"white\")\n",
    "plt.colorbar(img)\n",
    "ax.set_axis_off()"
   ]
  },
  {
   "cell_type": "markdown",
   "metadata": {},
   "source": [
    "### 2.1.3 Mask and calculate the NDVI for the city and the suburbs"
   ]
  },
  {
   "cell_type": "markdown",
   "metadata": {},
   "source": [
    "### Creating the mask for the city."
   ]
  },
  {
   "cell_type": "code",
   "execution_count": null,
   "metadata": {},
   "outputs": [],
   "source": [
    "masked, mask_transform = mask(\n",
    "    dataset=landsat,\n",
    "    shapes=city_limits.geometry,\n",
    "    crop=True,  # remove pixels not within boundary\n",
    "    all_touched=True,  # get all pixels that touch the boudnary\n",
    "    filled=False,  # do not fill cropped pixels with a default value\n",
    ")\n",
    "\n",
    "# Initialize\n",
    "fig, ax = plt.subplots(figsize=(10, 10))\n",
    "\n",
    "# Plot the first band\n",
    "ax.imshow(masked[0], cmap=\"copper\", extent=landsat_extent)\n",
    "\n",
    "# Format and add the city limits\n",
    "city_limits.boundary.plot(ax=ax, color=\"gray\", linewidth=4)\n",
    "ax.set_axis_off()"
   ]
  },
  {
   "cell_type": "markdown",
   "metadata": {},
   "source": [
    "### Calculating the NDVI for the city."
   ]
  },
  {
   "cell_type": "code",
   "execution_count": null,
   "metadata": {},
   "outputs": [],
   "source": [
    "masked.shape\n",
    "\n",
    "red = masked[3]\n",
    "nir = masked[4]\n",
    "\n",
    "red.mask\n",
    "\n",
    "def calculate_NDVI(nir, red):\n",
    "    \"\"\"\n",
    "    Calculate the NDVI from the NIR and red landsat bands\n",
    "    \"\"\"\n",
    "    \n",
    "    # Convert to floats\n",
    "    nir = nir.astype(float)\n",
    "    red = red.astype(float)\n",
    "    \n",
    "    # Get valid entries\n",
    "    check = np.logical_and( red.mask == False, nir.mask == False )\n",
    "    \n",
    "    # Where the check is True, return the NDVI, else return NaN\n",
    "    ndvi = np.where(check,  (nir - red ) / ( nir + red ), np.nan )\n",
    "    return ndvi \n",
    "NDVI = calculate_NDVI(nir, red)\n",
    "fig, ax = plt.subplots(figsize=(10,10))\n",
    "\n",
    "# Plot NDVI\n",
    "img = ax.imshow(NDVI, extent=landsat_extent, cmap=\"copper\")\n",
    "\n",
    "# Format and plot city limits\n",
    "city_limits.plot(ax=ax, edgecolor='gray', facecolor='none', linewidth=4)\n",
    "plt.colorbar(img)\n",
    "ax.set_axis_off()\n",
    "ax.set_title(\"NDVI in Philadelphia\", fontsize=18);"
   ]
  },
  {
   "cell_type": "markdown",
   "metadata": {},
   "source": [
    "### Creating the mask for the suburbs."
   ]
  },
  {
   "cell_type": "code",
   "execution_count": null,
   "metadata": {},
   "outputs": [],
   "source": [
    "masked1, mask_transform = mask(\n",
    "    dataset=landsat,\n",
    "    shapes=suburbs,\n",
    "    crop=True,  # remove pixels not within boundary\n",
    "    all_touched=True,  # get all pixels that touch the boudnary\n",
    "    filled=False,  # do not fill cropped pixels with a default value\n",
    ")\n",
    "\n",
    "# Initialize\n",
    "fig, ax = plt.subplots(figsize=(10, 10))\n",
    "\n",
    "# Plot the first band\n",
    "ax.imshow(masked1[0], cmap=\"copper\", extent=landsat_extent)\n",
    "\n",
    "# Format and add the city limits\n",
    "suburbs.boundary.plot(ax=ax, color=\"gray\", linewidth=4)\n",
    "ax.set_axis_off()"
   ]
  },
  {
   "cell_type": "markdown",
   "metadata": {},
   "source": [
    "### Calculating the NDVI for the suburbs."
   ]
  },
  {
   "cell_type": "code",
   "execution_count": null,
   "metadata": {},
   "outputs": [],
   "source": [
    "masked1.shape\n",
    "\n",
    "red = masked1[3]\n",
    "nir = masked1[4]\n",
    "\n",
    "red.mask\n",
    "\n",
    "def calculate_NDVI(nir, red):\n",
    "    \"\"\"\n",
    "    Calculate the NDVI from the NIR and red landsat bands\n",
    "    \"\"\"\n",
    "    \n",
    "    # Convert to floats\n",
    "    nir = nir.astype(float)\n",
    "    red = red.astype(float)\n",
    "    \n",
    "    # Get valid entries\n",
    "    check = np.logical_and( red.mask == False, nir.mask == False )\n",
    "    \n",
    "    # Where the check is True, return the NDVI, else return NaN\n",
    "    ndvi = np.where(check,  (nir - red ) / ( nir + red ), np.nan )\n",
    "    return ndvi \n",
    "NDVI_1 = calculate_NDVI(nir, red)\n",
    "fig, ax = plt.subplots(figsize=(10,10))\n",
    "\n",
    "# Plot NDVI\n",
    "img = ax.imshow(NDVI_1, extent=landsat_extent, cmap='copper')\n",
    "\n",
    "# Format and plot city limits\n",
    "city_limits.plot(ax=ax, edgecolor='gray', facecolor='none', linewidth=4)\n",
    "plt.colorbar(img)\n",
    "ax.set_axis_off()\n",
    "ax.set_title(\"NDVI in Philadelphia Suburbs\", fontsize=18);"
   ]
  },
  {
   "cell_type": "markdown",
   "metadata": {},
   "source": [
    "### 2.1.4 Calculate the median NDVI within the city and within the suburbs"
   ]
  },
  {
   "cell_type": "code",
   "execution_count": null,
   "metadata": {},
   "outputs": [],
   "source": [
    "stats = zonal_stats(city_limits, NDVI, affine=landsat.transform, stats=['median'], nodata=np.nan)\n",
    "city_limits['median_NDVI'] = [s['median'] for s in stats] \n",
    "\n",
    "stats1 = zonal_stats(suburbs, NDVI, affine=landsat.transform, stats=['median'], nodata=np.nan)\n",
    "suburbs['median_NDVI'] = [s['median'] for s in stats1] "
   ]
  },
  {
   "cell_type": "markdown",
   "metadata": {},
   "source": [
    "### The Philadelphia suburbs have a higher NDVI at .29 compared to the city proper at .20."
   ]
  },
  {
   "cell_type": "code",
   "execution_count": null,
   "metadata": {},
   "outputs": [],
   "source": [
    "city_limits['median_NDVI'] #0.20\n",
    "suburbs['median_NDVI'] #0.29"
   ]
  },
  {
   "cell_type": "markdown",
   "metadata": {},
   "source": [
    "## 2.2 Calculating the NDVI for Philadelphia's street treets"
   ]
  },
  {
   "cell_type": "markdown",
   "metadata": {},
   "source": [
    "### 2.2.1 Load the street tree data"
   ]
  },
  {
   "cell_type": "code",
   "execution_count": null,
   "metadata": {},
   "outputs": [],
   "source": [
    "philly_trees = gpd.read_file(\"./data/ppr_tree_canopy_points_2015.geojson\")\n",
    "philly_trees.crs\n",
    "landsat.crs\n",
    "landsat.crs.data['init']\n",
    "philly_trees = philly_trees.to_crs(landsat.crs.data['init'])"
   ]
  },
  {
   "cell_type": "code",
   "execution_count": null,
   "metadata": {},
   "outputs": [],
   "source": [
    "fig, ax = plt.subplots(figsize=(10,10))\n",
    "img = ax.imshow(NDVI, extent=landsat_extent, cmap='copper')\n",
    "philly_trees.plot(ax=ax, edgecolor='#eeba0b', facecolor='none', linewidth=2)\n",
    "city_limits.plot(ax=ax, edgecolor='gray', facecolor='none', linewidth=4)\n",
    "plt.colorbar(img)\n",
    "ax.set_axis_off()\n",
    "ax.set_title(\"NDVI vs. Trees in Philadelphia\", fontsize=18);"
   ]
  },
  {
   "cell_type": "markdown",
   "metadata": {},
   "source": [
    "### 2.2.2 Calculate the NDVI values at the locations of the street trees"
   ]
  },
  {
   "cell_type": "code",
   "execution_count": null,
   "metadata": {},
   "outputs": [],
   "source": [
    "treestats = zonal_stats(philly_trees, NDVI, affine=landsat.transform, stats=['median'], nodata=np.nan)\n",
    "treestats\n",
    "\n",
    "philly_trees['median_NDVI'] = [s['median'] for s in treestats] \n",
    "philly_trees"
   ]
  },
  {
   "cell_type": "markdown",
   "metadata": {},
   "source": [
    "### 2.2.3 Plotting the results"
   ]
  },
  {
   "cell_type": "code",
   "execution_count": null,
   "metadata": {},
   "outputs": [],
   "source": [
    "final_hist = fig, ax = plt.subplots(figsize=(8,6))\n",
    "ax.hist(philly_trees['median_NDVI'], bins='auto', color=\"#eeba0b\")\n",
    "ax.axvline(x=0, c='k', lw=2)\n",
    "ax.set_xlabel(\"Median NDVI\", fontsize=18)\n",
    "ax.set_ylabel(\"Number of Trees\", fontsize=18);\n"
   ]
  },
  {
   "cell_type": "code",
   "execution_count": null,
   "metadata": {},
   "outputs": [],
   "source": [
    "final_plot = fig, ax = plt.subplots(figsize=(10,10))\n",
    "city_limits.plot(ax=ax, edgecolor='black', facecolor='none', linewidth=4)\n",
    "philly_trees.plot(column='median_NDVI', legend=True, ax=ax, cmap='copper_r')\n",
    "ax.set_axis_off()"
   ]
  }
 ],
 "metadata": {
  "kernelspec": {
   "display_name": "Python 3 (ipykernel)",
   "language": "python",
   "name": "python3"
  },
  "language_info": {
   "codemirror_mode": {
    "name": "ipython",
    "version": 3
   },
   "file_extension": ".py",
   "mimetype": "text/x-python",
   "name": "python",
   "nbconvert_exporter": "python",
   "pygments_lexer": "ipython3",
   "version": "3.9.13"
  },
  "vscode": {
   "interpreter": {
    "hash": "f57117bfc4b78da7a79dacbcfe2d078a23f8a2e74da02b4ff156f324c625af92"
   }
  }
 },
 "nbformat": 4,
 "nbformat_minor": 4
}
